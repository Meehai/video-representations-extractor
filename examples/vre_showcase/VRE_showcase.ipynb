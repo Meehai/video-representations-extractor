{
  "cells": [
    {
      "cell_type": "markdown",
      "metadata": {},
      "source": [
        "## VRE Showcase\n",
        "\n",
        "This notebook is also hosted in Google Colab: [link](https://colab.research.google.com/drive/1vAp71H-TLewhF56odv33TkmGwwhuoFJ-?usp=sharing#scrollTo=xKjeYBfhJrJl)\n",
        "\n",
        "Provides and end-to-end run of VRE from a single video, to computing a few learned representations (aka experts) and\n",
        "then getting derived representations using the \"semantic_mapper\" module which only combines multiple pre-extracted\n",
        "representations w/o any neural networks, only simple arithmetics."
      ]
    },
    {
      "cell_type": "code",
      "execution_count": null,
      "metadata": {},
      "outputs": [],
      "source": [
        "# !pip install video-representations-extractor==1.12.2 -U --no-cache\n",
        "# !ls /usr/local/lib/python3.11/dist-packages/vre_repository/semantic_segmentation/mask2former/mask2former_impl/resources"
      ]
    },
    {
      "cell_type": "code",
      "execution_count": null,
      "metadata": {
        "id": "xKjeYBfhJrJl"
      },
      "outputs": [],
      "source": [
        "from pathlib import Path\n",
        "import os\n",
        "import urllib\n",
        "os.environ[\"VRE_LOGLEVEL\"] = \"0\"\n",
        "from pprint import pprint\n",
        "import subprocess\n",
        "import numpy as np\n",
        "import torch as tr\n",
        "import matplotlib.pyplot as plt\n",
        "import subprocess\n",
        "import shutil\n",
        "\n",
        "from vre.representations import build_representations_from_cfg, ReprOut, Representation\n",
        "from vre.readers.multitask_dataset import MultiTaskDataset, MultiTaskItem\n",
        "from vre.utils import collage_fn, image_add_title, MemoryData\n",
        "from vre_repository import get_vre_repository\n",
        "\n",
        "from pathlib import Path\n",
        "import urllib\n",
        "import sys\n",
        "sys.path.append(\"examples/semantic_mapper\")\n",
        "urllib.request.urlretrieve(\"https://gitlab.com/video-representations-extractor/video-representations-extractor/-/raw/master/examples/semantic_mapper/semantic_mapper.py\", filename=\"semantic_mapper.py\")\n",
        "urllib.request.urlretrieve(\"https://gitlab.com/video-representations-extractor/video-representations-extractor/-/raw/master/examples/semantic_mapper/cfg.yaml\", filename=\"cfg.yaml\")\n",
        "from semantic_mapper import get_new_semantic_mapped_tasks\n",
        "\n",
        "%load_ext autoreload\n",
        "%autoreload 2\n",
        "%matplotlib inline"
      ]
    },
    {
      "cell_type": "code",
      "execution_count": null,
      "metadata": {
        "colab": {
          "base_uri": "https://localhost:8080/"
        },
        "id": "bh16gA1yK9pv",
        "outputId": "87db2461-96bf-4ad1-cec4-61fd8130357b"
      },
      "outputs": [],
      "source": [
        "video_path = Path(\"test_video.mp4\")\n",
        "video_url = \"https://gitlab.com/video-representations-extractor/video-representations-extractor/-/raw/master/resources/test_video.mp4\"\n",
        "if True: # Chance this if you don't want to download the movie every time\n",
        "    shutil.rmtree(video_path, ignore_errors=True)\n",
        "if not Path(video_path).exists(): # download a new one and change it to your liking\n",
        "    urllib.request.urlretrieve(video_url, filename=str(video_path))\n",
        "\n",
        "cfg_path = Path(\"cfg.yaml\")\n",
        "vre_dir = Path(f\"data_{video_path.name}\")\n",
        "# frames = [\"1\", \"100\", \"1000\", \"3000\"]\n",
        "# frames = [str(x) for x in np.random.randint(0, 5000, size=(3, ))]\n",
        "frames = [\"3420\", \"3891\", \"1947\"]\n",
        "vre_device = \"cuda\" if tr.cuda.is_available() else \"cpu\"\n",
        "print(vre_device)\n",
        "# if vre_dir.exists():\n",
        "#     shutil.rmtree(vre_dir)\n",
        "args = [\"vre\", str(video_path), \"--config_path\", str(cfg_path), \"-o\", str(vre_dir),\n",
        "        \"--frames\", *frames, \"--output_dir_exists_mode\", \"skip_computed\"]\n",
        "print(f\"Running: {' '.join(args)}\")\n",
        "res = subprocess.run(args=args, env={**os.environ.copy(), **{\"VRE_DEVICE\": vre_device}}, capture_output=True, text=True)\n",
        "if res.returncode != 0:\n",
        "    print(\"============\")\n",
        "    print(res.stderr)\n",
        "    print(\"============\")\n",
        "    print(res.stderr)\n"
      ]
    },
    {
      "cell_type": "code",
      "execution_count": null,
      "metadata": {
        "colab": {
          "base_uri": "https://localhost:8080/",
          "height": 635
        },
        "id": "NrKlUQZDmFAU",
        "outputId": "b651374c-f1b2-493b-9105-e370929b2e5c"
      },
      "outputs": [],
      "source": [
        "def plot_one(data: MultiTaskItem, title: str, order: list[str],\n",
        "             name_to_task: dict[str, Representation]) -> np.ndarray:\n",
        "    def vre_plot_fn(rgb: tr.Tensor, x: tr.Tensor, node: Representation) -> np.ndarray:\n",
        "        res = ReprOut(rgb.cpu().detach().numpy()[None], MemoryData(x.cpu().detach().numpy()[None]), [0])\n",
        "        return node.make_images(res)[0]\n",
        "    order = [*[k for k in data if k in order], *[k for k in data if k not in order]]\n",
        "    img_data = {k: vre_plot_fn(data[\"rgb\"].byte(), data[k], name_to_task[k]) for k in order}\n",
        "    titles = [title if len(title) < 40 else f\"{title[0:19]}..{title[-19:]}\" for title in img_data]\n",
        "    collage = collage_fn(list(img_data.values()), titles=titles, size_px=40)\n",
        "    collage = image_add_title(collage, title, size_px=55, top_padding=110)\n",
        "    return collage\n",
        "\n",
        "task_names = [\"rgb\", \"depth_marigold\", \"normals_svd(depth_marigold)\", \"opticalflow_rife\",\n",
        "              \"semantic_mask2former_coco_47429163_0\", \"semantic_mask2former_mapillary_49189528_0\"]\n",
        "order = [\"rgb\", \"semantic_mask2former_mapillary_49189528_0\", \"semantic_mask2former_coco_47429163_0\",\n",
        "         \"depth_marigold\", \"normals_svd(depth_marigold)\"]\n",
        "\n",
        "task_types = {r.name: r for r in build_representations_from_cfg(cfg_path, get_vre_repository()) if r.name in task_names}\n",
        "\n",
        "reader = MultiTaskDataset(vre_dir, task_names=task_names, task_types=task_types, handle_missing_data=\"fill_nan\",\n",
        "                          normalization=\"min_max\", cache_task_stats=True, batch_size_stats=100)\n",
        "orig_task_names = list(reader.task_types.keys())\n",
        "\n",
        "print(reader)\n",
        "print(\"== Shapes ==\")\n",
        "pprint(reader.data_shape)\n",
        "\n",
        "data, name = reader[np.random.randint(0, len(reader))]\n",
        "collage = plot_one(data, title=name, order=order, name_to_task=reader.name_to_task)\n",
        "plt.figure(figsize=(15, 5))\n",
        "plt.imshow(collage)\n",
        "plt.show()"
      ]
    },
    {
      "cell_type": "code",
      "execution_count": null,
      "metadata": {
        "id": "xuxNW3yQnSZx"
      },
      "outputs": [],
      "source": [
        "new_tasks = get_new_semantic_mapped_tasks(include_semantic_output=False)\n",
        "for task_name in reader.task_names:\n",
        "    if task_name not in orig_task_names and task_name in reader.task_names:\n",
        "        reader.remove_task(task_name)\n",
        "for new_task in new_tasks.values():\n",
        "    reader.add_task(new_task, overwrite=True)\n",
        "\n",
        "print(\"== Random loaded item ==\")\n",
        "ixs = np.random.permutation(range(len(reader))).tolist()\n",
        "for ix in ixs:\n",
        "    data, name = reader[ix] # get a random item\n",
        "    plt.figure(figsize=(20, 10))\n",
        "    plt.imshow(collage := plot_one(data, title=name, order=order, name_to_task=reader.name_to_task))\n",
        "    plt.show()\n",
        "    break"
      ]
    },
    {
      "cell_type": "code",
      "execution_count": null,
      "metadata": {
        "id": "H-PirBDluj8A"
      },
      "outputs": [],
      "source": []
    }
  ],
  "metadata": {
    "accelerator": "GPU",
    "colab": {
      "gpuType": "T4",
      "provenance": []
    },
    "kernelspec": {
      "display_name": "vre",
      "language": "python",
      "name": "python3"
    },
    "language_info": {
      "codemirror_mode": {
        "name": "ipython",
        "version": 3
      },
      "file_extension": ".py",
      "mimetype": "text/x-python",
      "name": "python",
      "nbconvert_exporter": "python",
      "pygments_lexer": "ipython3",
      "version": "3.11.9"
    }
  },
  "nbformat": 4,
  "nbformat_minor": 0
}
