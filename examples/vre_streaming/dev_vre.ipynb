{
 "cells": [
  {
   "cell_type": "code",
   "execution_count": null,
   "metadata": {},
   "outputs": [],
   "source": [
    "import torch as tr\n",
    "import numpy as np\n",
    "import matplotlib.pyplot as plt\n",
    "from pathlib import Path\n",
    "import shutil\n",
    "import os\n",
    "\n",
    "from vre import VRE, FFmpegVideo\n",
    "from vre.representations import build_representations_from_cfg\n",
    "from vre.utils import get_project_root, image_read, collage_fn, image_write, vre_yaml_load\n",
    "from vre_repository import get_vre_repository\n",
    "\n",
    "%load_ext autoreload\n",
    "%autoreload 2\n",
    "%matplotlib inline"
   ]
  },
  {
   "cell_type": "code",
   "execution_count": null,
   "metadata": {},
   "outputs": [],
   "source": [
    "video = FFmpegVideo(get_project_root() / \"resources/test_video.mp4\")\n",
    "video.file = get_project_root() / \"resources/test_video.mp4\"\n",
    "print(video)"
   ]
  },
  {
   "cell_type": "code",
   "execution_count": null,
   "metadata": {},
   "outputs": [],
   "source": [
    "os.environ[\"VRE_DEVICE\"] = device = \"cuda\" if tr.cuda.is_available() else \"cpu\"\n",
    "all_representations_dict = vre_yaml_load(Path.cwd() / \"cfg.yaml\")\n",
    "representations = build_representations_from_cfg(all_representations_dict, get_vre_repository())\n",
    "print(representations)"
   ]
  },
  {
   "cell_type": "markdown",
   "metadata": {},
   "source": [
    "## Using VRE batched (default)\n",
    "This goes representation by representation, which is more suited for entire videos to be parallelized, not frame by frame."
   ]
  },
  {
   "cell_type": "code",
   "execution_count": null,
   "metadata": {},
   "outputs": [],
   "source": [
    "vre = VRE(video, representations)\n",
    "output_dir = Path.cwd() / \"here\"\n",
    "shutil.rmtree(output_dir, ignore_errors=True)\n",
    "print(vre)\n",
    "start_frame = np.random.randint(0, len(video) - 5)\n",
    "frames = range(start_frame, start_frame+1)\n"
   ]
  },
  {
   "cell_type": "code",
   "execution_count": null,
   "metadata": {},
   "outputs": [],
   "source": [
    "# res = vre.run(output_dir=output_dir, frames=range(start_frame, start_frame+1), output_dir_exists_mode=\"skip_computed\")\n",
    "# frames = [x.name for x in Path(output_dir / \"rgb/png\").iterdir()]\n",
    "# frame_name = np.random.permutation(frames)[0]\n",
    "# imgs = [image_read(output_dir / r.name / \"png\" / frame_name) for r in vre.representations]\n",
    "# collage = collage_fn(imgs, titles=[r.name for r in vre.representations], size_px=70, rows_cols=None)\n",
    "# image_write(collage, f\"collage_{frame_name}\")\n",
    "# plt.figure(figsize=(20, 10))\n",
    "# plt.imshow(collage)\n",
    "# plt.show()"
   ]
  },
  {
   "cell_type": "markdown",
   "metadata": {},
   "source": [
    "## Using VRE streaming handcrafted\n",
    "Soon this will be a real mode in VRE which goes frame by frame not representation by representation."
   ]
  },
  {
   "cell_type": "code",
   "execution_count": null,
   "metadata": {},
   "outputs": [],
   "source": [
    "\n",
    "display(vre.to_graphviz())\n",
    "print(vre)\n",
    "vre_streaming = vre.to_streaming()\n",
    "res = vre_streaming[frames]\n",
    "for i in range(len(frames)):\n",
    "    imgs = [res[r.name].output_images[i] for r in representations]\n",
    "    collage = collage_fn(imgs, titles=[r.name for r in representations], size_px=70, rows_cols=None)\n",
    "    image_write(collage, f\"collage_{frames[i]}.png\")\n",
    "    plt.figure(figsize=(20, 10))\n",
    "    plt.imshow(collage)\n",
    "    plt.show()\n"
   ]
  },
  {
   "cell_type": "code",
   "execution_count": null,
   "metadata": {},
   "outputs": [],
   "source": []
  }
 ],
 "metadata": {
  "kernelspec": {
   "display_name": "vre",
   "language": "python",
   "name": "python3"
  },
  "language_info": {
   "codemirror_mode": {
    "name": "ipython",
    "version": 3
   },
   "file_extension": ".py",
   "mimetype": "text/x-python",
   "name": "python",
   "nbconvert_exporter": "python",
   "pygments_lexer": "ipython3",
   "version": "3.11.9"
  }
 },
 "nbformat": 4,
 "nbformat_minor": 2
}
