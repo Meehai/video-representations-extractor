{
 "cells": [
  {
   "cell_type": "code",
   "execution_count": null,
   "metadata": {},
   "outputs": [],
   "source": [
    "import torch as tr\n",
    "import numpy as np\n",
    "import matplotlib.pyplot as plt\n",
    "from pathlib import Path\n",
    "import shutil\n",
    "import os\n",
    "\n",
    "from vre import VRE, FFmpegVideo\n",
    "from vre.vre_runtime_args import VRERuntimeArgs\n",
    "from vre.representations import build_representations_from_cfg\n",
    "from vre.utils import get_project_root, image_read, collage_fn, image_write, vre_yaml_load, random_chars, ReprOut\n",
    "from vre_repository import get_vre_repository\n",
    "\n",
    "%load_ext autoreload\n",
    "%autoreload 2\n",
    "%matplotlib inline"
   ]
  },
  {
   "cell_type": "code",
   "execution_count": null,
   "metadata": {},
   "outputs": [],
   "source": [
    "video = FFmpegVideo(get_project_root() / \"resources/test_video.mp4\")\n",
    "video.file = get_project_root() / \"resources/test_video.mp4\"\n",
    "print(video)"
   ]
  },
  {
   "cell_type": "code",
   "execution_count": null,
   "metadata": {},
   "outputs": [],
   "source": [
    "os.environ[\"VRE_DEVICE\"] = device = \"cuda\" if tr.cuda.is_available() else \"cpu\"\n",
    "all_representations_dict = vre_yaml_load(Path.cwd() / \"cfg.yaml\")\n",
    "representations = build_representations_from_cfg(all_representations_dict, get_vre_repository())\n",
    "print(representations)"
   ]
  },
  {
   "cell_type": "markdown",
   "metadata": {},
   "source": [
    "## Using VRE batched (default)\n",
    "This goes representation by representation, which is more suited for entire videos to be parallelized, not frame by frame."
   ]
  },
  {
   "cell_type": "code",
   "execution_count": null,
   "metadata": {},
   "outputs": [],
   "source": [
    "vre = VRE(video, representations)\n",
    "output_dir = Path.cwd() / \"here\"\n",
    "shutil.rmtree(output_dir, ignore_errors=True)\n",
    "print(vre)\n",
    "start_frame = np.random.randint(0, len(video) - 5)\n",
    "frames = range(start_frame, start_frame+1)\n",
    "# res = vre.run(output_dir=output_dir, frames=range(start_frame, start_frame+1), output_dir_exists_mode=\"skip_computed\")"
   ]
  },
  {
   "cell_type": "code",
   "execution_count": null,
   "metadata": {},
   "outputs": [],
   "source": [
    "frames = [x.name for x in Path(output_dir / \"rgb/png\").iterdir()]\n",
    "frame_name = np.random.permutation(frames)[0]\n",
    "imgs = [image_read(output_dir / r.name / \"png\" / frame_name) for r in vre.representations]\n",
    "collage = collage_fn(imgs, titles=[r.name for r in vre.representations], size_px=70, rows_cols=None)\n",
    "image_write(collage, f\"collage_{frame_name}\")\n",
    "plt.figure(figsize=(20, 10))\n",
    "plt.imshow(collage)\n",
    "plt.show()"
   ]
  },
  {
   "cell_type": "markdown",
   "metadata": {},
   "source": [
    "## Using VRE streaming handcrafted\n",
    "Soon this will be a real mode in VRE which goes frame by frame not representation by representation."
   ]
  },
  {
   "cell_type": "code",
   "execution_count": null,
   "metadata": {},
   "outputs": [],
   "source": [
    "output_dir = Path.cwd() / \"here\"\n",
    "shutil.rmtree(output_dir, ignore_errors=True)\n",
    "print(vre)\n",
    "\n",
    "res: dict[str, ReprOut] = {}\n",
    "for vre_repr in representations:\n",
    "    runtime_args = VRERuntimeArgs(video, representations, frames, \"stop_execution\", n_threads_data_storer=1)\n",
    "    repr_metadata = vre.do_one_representation(run_id=random_chars(n=10), representation=vre_repr,\n",
    "                                              output_dir=output_dir, output_dir_exists_mode=\"skip_computed\",\n",
    "                                              runtime_args=runtime_argsg)\n",
    "    res[vre_repr.name] = vre._load_from_disk_if_possible(vre_repr, video, list(frames), output_dir)\n",
    "    res[vre_repr.name].output_images = vre_repr.make_images(res[vre_repr.name])\n",
    "\n",
    "imgs = [res[r.name].output_images[0] for r in representations]\n",
    "collage = collage_fn(imgs, titles=[r.name for r in representations], size_px=70, rows_cols=None)\n",
    "image_write(collage, f\"collage_{frames[0]}.png\")\n",
    "plt.figure(figsize=(20, 10))\n",
    "plt.imshow(collage)\n",
    "plt.show()\n"
   ]
  },
  {
   "cell_type": "code",
   "execution_count": null,
   "metadata": {},
   "outputs": [],
   "source": []
  }
 ],
 "metadata": {
  "kernelspec": {
   "display_name": "vre",
   "language": "python",
   "name": "python3"
  },
  "language_info": {
   "codemirror_mode": {
    "name": "ipython",
    "version": 3
   },
   "file_extension": ".py",
   "mimetype": "text/x-python",
   "name": "python",
   "nbconvert_exporter": "python",
   "pygments_lexer": "ipython3",
   "version": "3.11.9"
  }
 },
 "nbformat": 4,
 "nbformat_minor": 2
}
