{
 "cells": [
  {
   "cell_type": "code",
   "execution_count": null,
   "metadata": {},
   "outputs": [],
   "source": [
    "import os\n",
    "os.environ[\"VRE_LOGLEVEL\"] = \"0\"\n",
    "from vre.readers import MultiTaskDataset\n",
    "from vre.representations import build_representations_from_cfg\n",
    "from vre_data_analysis import (extract_b64_image_from_fig, histogram_from_classification_task, save_html,\n",
    "                               extract_pil_from_b64_image, extract_b64_imgsrc_from_fig, gaussian_from_statistics)\n",
    "from vre_repository import get_vre_repository\n",
    "import numpy as np\n",
    "\n",
    "%load_ext autoreload\n",
    "%autoreload 2\n",
    "%matplotlib inline"
   ]
  },
  {
   "cell_type": "code",
   "execution_count": null,
   "metadata": {},
   "outputs": [],
   "source": [
    "data_path = \"../../test/vre_repository/end_to_end/task_mapped_representations/data\"\n",
    "cfg_path = \"../../test/vre_repository/end_to_end/task_mapped_representations/cfg.yaml\"\n",
    "\n",
    "representations = build_representations_from_cfg(cfg_path, get_vre_repository())\n"
   ]
  },
  {
   "cell_type": "code",
   "execution_count": null,
   "metadata": {},
   "outputs": [],
   "source": [
    "print(representations)\n",
    "reader = MultiTaskDataset(data_path, task_names=[r.name for r in representations],\n",
    "                          task_types={r.name: r for r in representations}, normalization=\"min_max\")\n",
    "print(reader)\n",
    "print(reader[0])"
   ]
  },
  {
   "cell_type": "code",
   "execution_count": null,
   "metadata": {},
   "outputs": [],
   "source": [
    "imgs, imgsrcs = [], []\n",
    "for classif_task in reader.classification_tasks:\n",
    "    fig = histogram_from_classification_task(reader, classif_task, n=100, mode=\"random\", figsize=(4, 3))\n",
    "    display(pil_img := extract_pil_from_b64_image(extract_b64_image_from_fig(fig)))\n",
    "    imgs.append(np.array(pil_img))\n",
    "    imgsrcs.append(extract_b64_imgsrc_from_fig(fig))"
   ]
  },
  {
   "cell_type": "code",
   "execution_count": null,
   "metadata": {},
   "outputs": [],
   "source": [
    "\n",
    "regression_tasks = [t for t in reader.tasks if t not in reader.classification_tasks]\n",
    "for regression_task in regression_tasks:\n",
    "    fig = gaussian_from_statistics(reader, regression_task)\n",
    "    display(pil_imgs := extract_pil_from_b64_image(extract_b64_image_from_fig(fig)))\n",
    "    imgsrcs.append(extract_b64_imgsrc_from_fig(fig))\n",
    "    imgs.append(np.array(pil_img))\n",
    "\n",
    "save_html(imgsrcs, str(reader), \"plot.html\")\n"
   ]
  },
  {
   "cell_type": "code",
   "execution_count": null,
   "metadata": {},
   "outputs": [],
   "source": [
    "from PIL import Image\n",
    "display(Image.fromarray(np.concatenate(imgs, axis=0)))"
   ]
  },
  {
   "cell_type": "code",
   "execution_count": null,
   "metadata": {},
   "outputs": [],
   "source": []
  }
 ],
 "metadata": {
  "kernelspec": {
   "display_name": "vre",
   "language": "python",
   "name": "python3"
  },
  "language_info": {
   "codemirror_mode": {
    "name": "ipython",
    "version": 3
   },
   "file_extension": ".py",
   "mimetype": "text/x-python",
   "name": "python",
   "nbconvert_exporter": "python",
   "pygments_lexer": "ipython3",
   "version": "3.11.9"
  }
 },
 "nbformat": 4,
 "nbformat_minor": 2
}
